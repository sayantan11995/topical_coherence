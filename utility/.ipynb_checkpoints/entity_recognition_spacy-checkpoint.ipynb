{
 "cells": [
  {
   "cell_type": "code",
   "execution_count": 1,
   "metadata": {},
   "outputs": [
    {
     "name": "stderr",
     "output_type": "stream",
     "text": [
      "C:\\ProgramData\\Anaconda3_new\\lib\\site-packages\\numpy\\_distributor_init.py:32: UserWarning: loaded more than 1 DLL from .libs:\n",
      "C:\\ProgramData\\Anaconda3_new\\lib\\site-packages\\numpy\\.libs\\libopenblas.GK7GX5KEQ4F6UYO3P26ULGBQYHGQO7J4.gfortran-win_amd64.dll\n",
      "C:\\ProgramData\\Anaconda3_new\\lib\\site-packages\\numpy\\.libs\\libopenblas.NOIJJG62EMASZI6NYURL6JBKM4EVBGM7.gfortran-win_amd64.dll\n",
      "  stacklevel=1)\n"
     ]
    }
   ],
   "source": [
    "from __future__ import unicode_literals\n",
    "import spacy\n",
    "import pickle\n",
    "from pprint import pprint \n",
    "from spacy import displacy\n",
    "from collections import Counter\n",
    "import en_core_web_sm\n",
    "import os, os.path\n",
    "import fnmatch\n",
    "import json\n"
   ]
  },
  {
   "cell_type": "code",
   "execution_count": 19,
   "metadata": {},
   "outputs": [],
   "source": [
    "with open('config.json') as handle:\n",
    "    config = json.load(handle)\n",
    "book = config['book_name']\n",
    "Parts = config['number_of_parts']\n",
    "dir_path = './%s/part'% book"
   ]
  },
  {
   "cell_type": "code",
   "execution_count": 20,
   "metadata": {},
   "outputs": [],
   "source": [
    "nlp = en_core_web_sm.load()\n",
    "chapter_entities_map = {}\n",
    "entity_list_map = {}\n",
    "notation_int_map = {}\n",
    "\n",
    "# 0 = PERSON 1 = PLACE\n",
    "notation_int_map['PERSON'] = 0\n",
    "notation_int_map['GPE'] = 1\n",
    "notation_int_map['FAC'] = 1\n",
    "notation_int_map['LOC'] = 1"
   ]
  },
  {
   "cell_type": "code",
   "execution_count": 21,
   "metadata": {},
   "outputs": [
    {
     "name": "stdout",
     "output_type": "stream",
     "text": [
      "./SOMEWT/part1/\n",
      "no.of_chapters:24\n",
      "part:1\n",
      "chapters1 to 25\n",
      "./SOMEWT/part2/\n",
      "no.of_chapters:29\n",
      "part:2\n",
      "chapters1 to 30\n",
      "./SOMEWT/part3/\n",
      "no.of_chapters:23\n",
      "part:3\n",
      "chapters1 to 24\n",
      "./SOMEWT/part4/\n",
      "no.of_chapters:47\n",
      "part:4\n",
      "chapters1 to 48\n",
      "./SOMEWT/part5/\n",
      "no.of_chapters:44\n",
      "part:5\n",
      "chapters1 to 45\n"
     ]
    }
   ],
   "source": [
    "for part in range(1,Parts+1):\n",
    "    chapter_entities_map[part] = {}\n",
    "    entity_list_map[part] = {}\n",
    "    x = 1\n",
    "    print(dir_path + str(part) + '/')\n",
    "    no_of_chapters = len(fnmatch.filter(os.listdir(dir_path + str(part) + '/'), '*.txt'))\n",
    "    print('no.of_chapters:' + str(no_of_chapters))\n",
    "    print('part:' + str(part))\n",
    "    while x <= no_of_chapters:\n",
    "        \n",
    "        target_x = no_of_chapters+1\n",
    "        \n",
    "        print('chapters' + str(x) + ' to ' + str(target_x) )\n",
    "        for i in range(x,target_x):\n",
    "            \n",
    "            with open(dir_path + str(part) + '/chapter'+ str(i) + '.txt', 'r') as content_file:\n",
    "                content = content_file.read()\n",
    "            chapter_entities_map[part][i] = set()\n",
    "            content = unicode(content, \"utf-8\")\n",
    "            doc = nlp(content) \n",
    "            for ent in doc.ents:\n",
    "\n",
    "                if ent.label_ not in notation_int_map.keys():\n",
    "                    continue\n",
    "                #print(ent.text, ent.start_char, ent.end_char, ent.label_)\n",
    "                chapter_entities_map[part][i].add(ent.text)\n",
    "                if ent.text not in entity_list_map[part].keys():\n",
    "                    entity_list_map[part][ent.text] = []  \n",
    "                entity_list_map[part][ent.text].append(notation_int_map[ent.label_])\n",
    "            chapter_entities_map[part][i] = list(chapter_entities_map[part][i])\n",
    "        \n",
    "        x = target_x\n",
    "        \n",
    "#print chapter_entities_map\n",
    "with open('json_files/%s/spacy_chapter_entities_map.json'% book, 'w') as handle:\n",
    "    json.dump(chapter_entities_map,handle,indent = 4)\n",
    "#print entity_list_map\n",
    "with open('json_files/%s/spacy_entity_list_map.json' %book, 'w') as handle:\n",
    "    json.dump(entity_list_map,handle,indent = 4)            \n",
    "        "
   ]
  },
  {
   "cell_type": "code",
   "execution_count": null,
   "metadata": {},
   "outputs": [],
   "source": []
  }
 ],
 "metadata": {
  "kernelspec": {
   "display_name": "Python 3",
   "language": "python",
   "name": "python3"
  },
  "language_info": {
   "codemirror_mode": {
    "name": "ipython",
    "version": 3
   },
   "file_extension": ".py",
   "mimetype": "text/x-python",
   "name": "python",
   "nbconvert_exporter": "python",
   "pygments_lexer": "ipython3",
   "version": "3.7.4"
  }
 },
 "nbformat": 4,
 "nbformat_minor": 2
}
