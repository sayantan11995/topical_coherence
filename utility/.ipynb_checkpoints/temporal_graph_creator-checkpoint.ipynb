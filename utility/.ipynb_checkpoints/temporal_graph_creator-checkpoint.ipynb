{
 "cells": [
  {
   "cell_type": "code",
   "execution_count": 1,
   "metadata": {},
   "outputs": [],
   "source": [
    "import json\n",
    "import networkx as nx\n",
    "import operator\n",
    "import pickle\n",
    "import os, os.path\n",
    "import fnmatch"
   ]
  },
  {
   "cell_type": "code",
   "execution_count": 2,
   "metadata": {},
   "outputs": [],
   "source": [
    "with open('config.json') as handle:\n",
    "    config = json.load(handle)\n",
    "book = config['book_name']\n",
    "Parts = config['number_of_parts']\n",
    "window_size = config['temporal_window_size']"
   ]
  },
  {
   "cell_type": "code",
   "execution_count": 3,
   "metadata": {},
   "outputs": [],
   "source": [
    "with open('json_files/%s/date_place_list.json' % book) as handle:\n",
    "    date_place_list = json.load(handle)\n",
    "\n",
    "with open('json_files/%s/date_person_list.json' %book) as handle:\n",
    "    date_person_list= json.load(handle)"
   ]
  },
  {
   "cell_type": "code",
   "execution_count": 4,
   "metadata": {},
   "outputs": [],
   "source": [
    "temporal_year_list = [[1885,1894],[1895,1904],[1905,1915],[1915,1924]]"
   ]
  },
  {
   "cell_type": "code",
   "execution_count": 5,
   "metadata": {},
   "outputs": [],
   "source": [
    "# given date dict creates and returns temporal graph\n",
    "def returnGraph(date_dict,start_year,end_year):\n",
    "    mygraph = nx.Graph()\n",
    "    print(\"creating graph with start year:\" + str(start_year))\n",
    "    for year1 in date_dict.keys():\n",
    "        if int(year1) < start_year or int(year1) > end_year:\n",
    "            continue\n",
    "        #first creating edges in the same year\n",
    "        for node1 in date_dict[year1]:\n",
    "            for node2 in date_dict[year1]:\n",
    "                if node1 != node2:\n",
    "                    mygraph.add_edge(node1,node2)\n",
    "                    \n",
    "        # now creating edges as per window\n",
    "        for year2 in date_dict.keys():\n",
    "            if int(year2) < start_year or int(year2) > end_year:\n",
    "                continue\n",
    "            if int(year2) <= int(year1) or int(year2) > int(year1) + window_size:\n",
    "                continue\n",
    "            for node1 in date_dict[year1]:\n",
    "                for node2 in date_dict[year2]:\n",
    "                    if node1 != node2:\n",
    "                        mygraph.add_edge(node1,node2)\n",
    "    \n",
    "    return mygraph"
   ]
  },
  {
   "cell_type": "code",
   "execution_count": 6,
   "metadata": {},
   "outputs": [
    {
     "name": "stdout",
     "output_type": "stream",
     "text": [
      "creating graph with start year:1885\n",
      "creating graph with start year:1885\n",
      "graph_place number of nodes:34 number of edges:352\n",
      "graph_person number of nodes:52 number of edges:578\n",
      "creating graph with start year:1895\n",
      "creating graph with start year:1895\n",
      "graph_place number of nodes:21 number of edges:170\n",
      "graph_person number of nodes:52 number of edges:666\n",
      "creating graph with start year:1905\n",
      "creating graph with start year:1905\n",
      "graph_place number of nodes:32 number of edges:472\n",
      "graph_person number of nodes:93 number of edges:3683\n",
      "creating graph with start year:1915\n",
      "creating graph with start year:1915\n",
      "graph_place number of nodes:48 number of edges:744\n",
      "graph_person number of nodes:125 number of edges:4559\n"
     ]
    }
   ],
   "source": [
    "for year_range in temporal_year_list:\n",
    "    start_year = year_range[0]\n",
    "    end_year = year_range[1]\n",
    "    graph_place = returnGraph(date_place_list,start_year,end_year)\n",
    "    graph_person = returnGraph(date_person_list,start_year,end_year)\n",
    "\n",
    "    graph_place_nodes = graph_place.number_of_nodes()\n",
    "    graph_place_edges = graph_place.number_of_edges()\n",
    "\n",
    "    graph_person_nodes = graph_person.number_of_nodes()\n",
    "    graph_person_edges = graph_person.number_of_edges()\n",
    "\n",
    "    print(\"graph_place number of nodes:\" + str(graph_place_nodes) + \" number of edges:\" + str(graph_place_edges))\n",
    "    print(\"graph_person number of nodes:\" + str(graph_person_nodes) + \" number of edges:\" + str(graph_person_edges))\n",
    "    \n",
    "    nx.write_graphml(graph_place, 'temporal_graphs/%s/graph_place' % book + '_startyear_' + str(start_year) + '_endyear_' + str(end_year) + '.xml')\n",
    "\n",
    "    nx.write_graphml(graph_person, 'temporal_graphs/%s/graph_person'% book + '_startyear_' + str(start_year) + '_endyear_' + str(end_year) +'.xml')"
   ]
  },
  {
   "cell_type": "code",
   "execution_count": null,
   "metadata": {},
   "outputs": [],
   "source": []
  },
  {
   "cell_type": "code",
   "execution_count": null,
   "metadata": {},
   "outputs": [],
   "source": []
  }
 ],
 "metadata": {
  "kernelspec": {
   "display_name": "Python 3",
   "language": "python",
   "name": "python3"
  },
  "language_info": {
   "codemirror_mode": {
    "name": "ipython",
    "version": 3
   },
   "file_extension": ".py",
   "mimetype": "text/x-python",
   "name": "python",
   "nbconvert_exporter": "python",
   "pygments_lexer": "ipython3",
   "version": "3.7.4"
  }
 },
 "nbformat": 4,
 "nbformat_minor": 2
}
