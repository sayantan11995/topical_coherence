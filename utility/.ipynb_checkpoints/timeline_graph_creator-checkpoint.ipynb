{
 "cells": [
  {
   "cell_type": "code",
   "execution_count": 1,
   "metadata": {},
   "outputs": [
    {
     "name": "stderr",
     "output_type": "stream",
     "text": [
      "C:\\ProgramData\\Anaconda3_new\\lib\\site-packages\\numpy\\_distributor_init.py:32: UserWarning: loaded more than 1 DLL from .libs:\n",
      "C:\\ProgramData\\Anaconda3_new\\lib\\site-packages\\numpy\\.libs\\libopenblas.GK7GX5KEQ4F6UYO3P26ULGBQYHGQO7J4.gfortran-win_amd64.dll\n",
      "C:\\ProgramData\\Anaconda3_new\\lib\\site-packages\\numpy\\.libs\\libopenblas.NOIJJG62EMASZI6NYURL6JBKM4EVBGM7.gfortran-win_amd64.dll\n",
      "  stacklevel=1)\n"
     ]
    }
   ],
   "source": [
    "import pandas as pd\n",
    "import numpy as np\n",
    "import json\n",
    "import networkx as nx\n",
    "import os\n",
    "from operator import itemgetter\n",
    "import math"
   ]
  },
  {
   "cell_type": "code",
   "execution_count": 11,
   "metadata": {},
   "outputs": [],
   "source": [
    "book = 'SOMEWT'\n",
    "# book = 'Life_of_Mahatma_Gandhi'\n",
    "\n",
    "year_window = 10\n",
    "start_year = 1888\n",
    "end_year = 1924\n",
    "window_size = 1"
   ]
  },
  {
   "cell_type": "code",
   "execution_count": 3,
   "metadata": {},
   "outputs": [],
   "source": [
    "with open('json_files/%s/date_person_list.json' % book) as handle:\n",
    "    date_to_person_list = json.load(handle)\n",
    "\n",
    "with open('json_files/%s/date_person_list_with_mention.json' %book) as handle:\n",
    "    date_to_person_list_with_mention = json.load(handle)"
   ]
  },
  {
   "cell_type": "code",
   "execution_count": 4,
   "metadata": {},
   "outputs": [],
   "source": [
    "# given date dict creates and returns temporal graph\n",
    "def returnGraph(date_dict,start_year,end_year):\n",
    "    mygraph = nx.Graph()\n",
    "    print(\"creating graph with start year:\" + str(start_year))\n",
    "    for year1 in date_dict.keys():\n",
    "        if int(year1) < start_year or int(year1) > end_year:\n",
    "            continue\n",
    "        #first creating edges in the same year\n",
    "        for node1 in date_dict[year1]:\n",
    "            for node2 in date_dict[year1]:\n",
    "                if node1 != node2:\n",
    "                    mygraph.add_edge(node1,node2)\n",
    "                    \n",
    "        # now creating edges as per window\n",
    "        for year2 in date_dict.keys():\n",
    "            if int(year2) < start_year or int(year2) > end_year:\n",
    "                continue\n",
    "            if int(year2) <= int(year1) or int(year2) > int(year1) + window_size:\n",
    "                continue\n",
    "            for node1 in date_dict[year1]:\n",
    "                for node2 in date_dict[year2]:\n",
    "                    if node1 != node2:\n",
    "                        mygraph.add_edge(node1,node2)\n",
    "    \n",
    "    return mygraph\n",
    "\n",
    "\n",
    "def returnTopMentionList(date_dict_with_mention, start_year, end_year, N=10):\n",
    "    \n",
    "    mydict = {}\n",
    "    \n",
    "    for year in date_dict_with_mention.keys():\n",
    "        if int(year) < start_year or int(year) > end_year:\n",
    "            continue\n",
    "   \n",
    "        for entity, mention in date_dict_with_mention[year].items():\n",
    "            try:\n",
    "                mydict[entity] += mention\n",
    "            except:\n",
    "                mydict[entity] = mention\n",
    "                    \n",
    "    res = dict(sorted(mydict.items(), key = itemgetter(1), reverse = True)[:N])\n",
    "    \n",
    "    return res\n",
    "        \n",
    "def Jaccard_score(lista_1, lista_2, lista_3):    \n",
    "    inter = len(list(set(lista_1) & set(lista_2) & set(lista_3)))\n",
    "    union = len(list(set(lista_1) | set(lista_2) | set(lista_3)))\n",
    "    if union <=0:\n",
    "        return 0\n",
    "    else:\n",
    "        return inter/union"
   ]
  },
  {
   "cell_type": "code",
   "execution_count": 5,
   "metadata": {},
   "outputs": [],
   "source": [
    "def get_graph_data(graph, book, start_year, end_year, new_nodes=[]):\n",
    "\n",
    "    # using category10 color pallete\n",
    "    color_pallete =  ['#0eabff', '#ff320e', '#1f77b4', '#2ca02c', '#d62728', '#9467bd', '#8c564b', '#e377c2', '#7f7f7f', '#bcbd22', '#17becf']\n",
    "   \n",
    "    chart_data = []\n",
    "    node_color_list = []\n",
    "    \n",
    "    for node in graph.nodes():\n",
    "        dic = {}\n",
    "        dic['from'] = node\n",
    "        if node in new_nodes:\n",
    "            dic['color'] = color_pallete[1]\n",
    "        else:\n",
    "            dic['color'] = color_pallete[0]\n",
    "        node_color_list.append(dic)\n",
    "            \n",
    "    for edge in graph.edges():\n",
    "        dic = {}\n",
    "        dic['from'] = edge[0]\n",
    "        dic['to'] = edge[1]\n",
    "        dic['value'] = 1\n",
    "        chart_data.append(dic)\n",
    "        \n",
    "    node_color_list = sorted(node_color_list, key = lambda i: i['color'])\n",
    "    chart_data = node_color_list + chart_data\n",
    "\n",
    "    title = \"Mention network of people (\" + str(start_year) + \"-\" + str(end_year) +  \")\" \n",
    "\n",
    "    return chart_data"
   ]
  },
  {
   "cell_type": "code",
   "execution_count": 12,
   "metadata": {},
   "outputs": [
    {
     "name": "stdout",
     "output_type": "stream",
     "text": [
      "creating graph with start year:1888\n",
      "creating graph with start year:1888\n",
      "{'Narmadashanker': 27, 'Natarajan': 27, 'Balasundaram': 27, 'Lord Elgin': 27, 'Jehangir Petit': 27, 'Malaviyaji': 27, 'Dilshad Begam': 27, 'Dada Abdulla': 30, 'Gokhale': 30, 'Lallubhai Samaldas': 27, 'Lady Tata': 27, 'Sheth Abubakar Amod': 27, 'Maffey': 27, 'Chelmsford': 27, 'Buller': 30, 'Escombe': 30, 'Mansukhlal Naazar': 30, 'Addison': 11, 'Cecilia Roberts': 11, 'Sorabji Adajania': 11, 'Parsi Rustomji': 30, 'John Burns': 11, 'Jivraj Mehta': 11, 'Narayan Hemchandra': 11, 'Allinson': 11, 'Akho': 11, 'Goodeve': 11, 'Snell': 11, 'Pearson': 27, 'Muhammad Kasam Kamruddin': 27, 'Rangasami Padiachi': 27, 'Rajchandra': 27, 'Tyeb Sheth': 27, 'Dawud': 27, 'Ravishankar': 27, 'Ripon': 27, 'Narsinhram': 27, 'Sheth Abdul Karim Jhaveri': 27, 'Virchand': 27, 'Gabb': 27, 'Kuhne': 30, 'Keshav Chandra Sen': 30, 'Lokamanya Tilak': 30, 'Abbas': 30, 'Harilal': 30, 'Besant': 30, 'Gokhlae': 30, 'Babu Kalicharan Banerji': 30, 'Wacha': 30, 'Ranade': 30, 'Polak': 30, 'Edward VII': 30, 'Subrahmaniam': 30, 'Pillay': 30, 'Mullick': 30, 'Bhandarkar': 30, 'Chesney': 30, 'Kathavate': 30, 'Surendranath Banerji': 30, 'Saunders': 30, 'Ramdas': 30, 'Maharaja Tagore': 30, 'Pestonji': 30, 'Mitter': 30, 'Swami Vivekanand': 30}\n",
      "creating graph with start year:1898\n",
      "{'William Godfrey': 19, 'Chhaganlal Gandhi': 19, 'Miss Schlesin': 19, 'Maneklal': 19, 'Ritch': 19, 'Nazar': 19, 'Govindaswami': 19, 'Badri': 19, 'Macdonald': 19, 'Gokhale': 19, 'Maganlal': 19, 'Polak': 19, 'Kalyandas': 19, 'Madanjit': 19, 'Snell': 19, 'Kuhne': 19, 'Patanjali': 19, 'Sheth Tyeb Haji Khanmahomed': 19, 'Tyeb Sheth': 19, 'Revashankarbhai': 19, 'Bhupenbabu': 5, 'Wacha': 5, 'Curzon': 5, 'Chimanlal Setalvad': 5, 'Ghosalbabu': 5, 'Valji': 7, 'Jeramdas': 7, 'Ranade': 7, 'Allinson': 7, 'Hermann Kallenbach': 7, 'Nishkulanand': 7}\n",
      "creating graph with start year:1908\n",
      "{'Rajkumar Shukla': 85, 'Babu Brajkishore Prasad': 85, 'Rajendra Babu': 85, 'Brijkishore': 3, 'Kasturbai': 85, 'Pragji': 1, 'Babu Bhupendranath Basu': 85, 'Jehangir Petit': 85, 'Yashvantprasad Desai': 85, \"Michael O'Dwyer\": 85, 'Kelkar': 85, 'Chhaganlal Gandhi': 85, 'Bepin': 85, 'Gangabehn Majmundar': 85, 'Abbas': 85, 'Ramnavmi Prasad': 85, 'Edward Gait': 85, 'Jivanlal': 85, 'Sharadbabu': 85, 'Shrimati Anandibai': 85, 'Hakim Ajmal Khan Saheb': 85, 'Acharya Ramadevji': 85, 'Jayakar': 85, 'Shambhaubabu': 85, 'Shrimati Vasumatibehn': 85, 'Kakasaheb': 85, 'Gorakhbabu': 85, 'Ambalal Sarabhai': 85, 'Jeramdas': 85, 'Shrimatis Avantikabai': 85, 'Sinha': 85, 'Punjabhai': 85, 'Babasaheb Soman': 85, 'Janakdharibabu': 85, 'Gangadharrao': 85, 'Gaya Babu': 85, 'Kaul': 85, 'Ramibai Kamdar': 85, 'Maulana Mazharul Haq': 85, 'Chintaman': 85, 'Kripalani': 85, 'Mahatma Munshiramji': 85, 'Phadke': 85, 'Choithram': 85, 'Kitchlu': 85, 'Shankarlal Parikh': 85, 'Lakshmidas': 85, 'Hasrat Saheb': 85, 'Motilalji': 85, 'Devdas': 85, 'Danibehn': 85, 'Sushil Rudra': 85, 'Pearson': 85, 'Kalelkar': 85, 'Mohanlal': 85, 'Harihar Sharma': 85, 'Brajkishorebabu': 85, 'Thakkar Bapa': 85, 'Deshabandhu': 85, 'Amritlal Thakkar': 85, 'Jagadanandbabu': 85, 'Hakim Saheb': 85, 'Shrimati Durga Desai': 85, 'Mahadev Desai': 85, 'Brajkishore Babu': 85, 'Malkani': 85, 'Shivji': 85, 'Ramdas': 85, 'Malaviyaji': 85, 'Gokhale': 85, 'Chhotalal': 85, 'Vaidyanathadham': 85, 'Satyapal': 85, 'Nagenbabu': 85, 'Patwardhan': 85, 'Maulana Abdul Bari Saheb': 85, 'Umar Sobani': 85, 'Chelmsford': 85, 'Keshavrao Deshpande': 85, 'Babu Dharanidhar Prasad': 85, 'Lala Harkishanlal': 85, 'Crewe': 85, 'Sorabji Adajania': 85, 'Jivraj Mehta': 85, 'Dada Abdulla': 85, 'Kuhne': 85, 'Polak': 85, 'Manilal': 85}\n",
      "creating graph with start year:1918\n",
      "{'Abbas': 56, 'Tribhuvandas': 56, 'Maulana Abdul Kalam Azad': 56, 'Motilalji': 56, 'Malaviyaji': 56, 'Dada Abdulla': 56, 'Mansukhlal Naazar': 56, 'Umar Sobani': 56, 'Escombe': 56, 'Patwardhan': 56, 'Maulana Shaukat Ali': 56, 'Hakim Saheb': 56, 'Lalaji': 56, 'Besant': 56, 'Parsi Rustomji': 5, 'James Godfery': 5, 'Muhammad Kasam Kamruddin': 5, 'Abdul Gani Sheth': 5, 'Tyeb Sheth': 5, 'Kasturbai': 56, 'Naidu': 56, 'Sarladevi': 56, 'Brelvi': 56, \"Michael O'Dwyer\": 56, 'Sheth Ambalal': 56, 'Lokamanya Tilak': 56, 'Kuhne': 56, 'Dhruva': 56, 'Ramanbhai': 56, 'Hakim Ajmal Khan Saheb': 56, 'Samarth': 56, 'Dinabandhu': 56, 'Vithalbhai': 56, 'Indulal': 56, 'Talvalkar': 56, 'Bowring': 56, 'Rajagopalachari': 56, 'Vithaldas Jerajani': 56, 'Kelkar': 56, 'Fulchand': 56, 'Vallabhbhai Patel': 56, 'Ansari': 56, 'Kasturi': 56, 'Kitchlu': 56, 'Shankarlal Parikh': 56, 'Kevalram Dave': 56, 'Sayani': 56, 'Gokhale': 56, 'Anandshankar': 56, 'Manilal': 56, 'Abdur Rahman': 56, 'Shrimati Anasuyabehn': 56, 'Mahadev Desai': 56, 'Kanuga': 56, 'Mahomed Ali': 56, 'Yajnik': 56, 'Satyapal': 56, 'Shrimati Sarojini Devi': 56, 'Mohanlal': 56, 'Horniman': 56, 'Shastriji': 56, 'Chelmsford': 56}\n"
     ]
    }
   ],
   "source": [
    "top_nodes = {}\n",
    "bar_chart_data = []\n",
    "jaccard_data = []\n",
    "old_graph = returnGraph(date_to_person_list, start_year, start_year)\n",
    "\n",
    "\n",
    "\n",
    "from operator import itemgetter\n",
    "N=10\n",
    "\n",
    "for year in range(start_year, end_year, year_window):\n",
    "    dic = {}\n",
    "    year_range = str(year) + '-' + str(year+year_window-1)\n",
    "    top_nodes[year_range] = {}\n",
    "    \n",
    "    graph_person = returnGraph(date_to_person_list, year, year+year_window-1)\n",
    "    \n",
    "    if len(graph_person.nodes) > 0:\n",
    "        core = nx.k_core(graph_person)\n",
    "#         print(nx.core_number(graph_person))\n",
    "        print(nx.density(core))\n",
    "#     close_cen = nx.closeness_centrality(graph_person)\n",
    "#     top_close = dict(sorted(close_cen.items(), key = itemgetter(1), reverse = True)[:N])\n",
    "#     print(f\"closeness centrality:  {top_close}\")\n",
    "#     top_nodes[year_range]['closeness_centrality'] = list(top_close.keys())\n",
    "    \n",
    "#     bet_cen = nx.betweenness_centrality(graph_person)\n",
    "#     top_bet = dict(sorted(bet_cen.items(), key = itemgetter(1), reverse = True)[:N])\n",
    "#     print(f\"betweenness centrality:  {top_bet}\")\n",
    "#     top_nodes[year_range]['betweenness_centrality'] = list(top_bet.keys())\n",
    "    \n",
    "#     top_mention = returnTopMentionList(date_to_person_list_with_mention, year, year+year_window-1)\n",
    "#     print(f\"Top mention:  {top_mention}\")\n",
    "#     top_nodes[year_range]['top_mention'] = list(top_mention.keys())\n",
    "    \n",
    "#     jaccard_score = Jaccard_score(list(top_close.keys()),  list(top_bet.keys()),  list(top_mention.keys()))\n",
    "#     top_nodes[year_range]['jaccard_score'] = jaccard_score\n",
    "    \n",
    "#     new_nodes = list(set(graph_person.nodes()) - set(old_graph.nodes()))\n",
    "    \n",
    "#     graph_data = get_graph_data(graph_person, book, start_year=year, end_year=year+year_window-1, new_nodes=new_nodes)\n",
    "#     old_graph = graph_person.copy()\n",
    "    \n",
    "#     graph_data_path = 'static/timeline_graph_data/%s/' % book\n",
    "#     file_name = 'graph_person_startyear_' + str(year) + '_endyear_' + str(year+year_window-1) + '.json'\n",
    "#     with open(os.path.join(graph_data_path, file_name), 'w', encoding='utf-8') as content:\n",
    "#         json.dump(graph_data, content)\n",
    "#     nx.draw(g)\n",
    "#     nx.write_graphml(graph_person, 'Results/%s/graph_person' % book + '_startyear_' + str(year) + '_endyear_' + str(year+year_window-1) + '.xml')\n",
    "#     dic['date'] = '%s-%s'%(year, year+year_window-1)\n",
    "#     dic['edges'] = len(graph_person.edges())\n",
    "#     dic['nodes'] = len(graph_person.nodes())\n",
    "#     dic['jaccard_score'] = jaccard_score\n",
    "    bar_chart_data.append(dic)\n",
    "    \n",
    "    "
   ]
  },
  {
   "cell_type": "code",
   "execution_count": 65,
   "metadata": {},
   "outputs": [
    {
     "data": {
      "text/plain": [
       "[{'date': '1888-1890', 'edges': 282, 'nodes': 28, 'jaccard_score': 0.25},\n",
       " {'date': '1891-1893',\n",
       "  'edges': 34,\n",
       "  'nodes': 11,\n",
       "  'jaccard_score': 0.8181818181818182},\n",
       " {'date': '1894-1896', 'edges': 21, 'nodes': 7, 'jaccard_score': 1.0},\n",
       " {'date': '1897-1899', 'edges': 0, 'nodes': 0, 'jaccard_score': 0},\n",
       " {'date': '1900-1902', 'edges': 0, 'nodes': 0, 'jaccard_score': 0},\n",
       " {'date': '1903-1905', 'edges': 0, 'nodes': 0, 'jaccard_score': 0},\n",
       " {'date': '1906-1908',\n",
       "  'edges': 447,\n",
       "  'nodes': 38,\n",
       "  'jaccard_score': 0.3333333333333333},\n",
       " {'date': '1909-1911', 'edges': 378, 'nodes': 28, 'jaccard_score': 0.25},\n",
       " {'date': '1912-1914', 'edges': 45, 'nodes': 10, 'jaccard_score': 1.0},\n",
       " {'date': '1915-1917',\n",
       "  'edges': 261,\n",
       "  'nodes': 28,\n",
       "  'jaccard_score': 0.42857142857142855},\n",
       " {'date': '1918-1920',\n",
       "  'edges': 435,\n",
       "  'nodes': 30,\n",
       "  'jaccard_score': 0.1111111111111111},\n",
       " {'date': '1921-1923',\n",
       "  'edges': 435,\n",
       "  'nodes': 30,\n",
       "  'jaccard_score': 0.17647058823529413}]"
      ]
     },
     "execution_count": 65,
     "metadata": {},
     "output_type": "execute_result"
    }
   ],
   "source": [
    "with open('static/timeline_graph_data/%s/bar_chart_nodes_edges.json'%(book), 'w') as content:\n",
    "    json.dump(bar_chart_data, content, indent=4)\n",
    "    \n",
    "with open('static/timeline_graph_data/%s/top_nodes.json'%(book), 'w') as content:\n",
    "    json.dump(top_nodes, content, indent=4)\n",
    "\n",
    "bar_chart_data"
   ]
  },
  {
   "cell_type": "code",
   "execution_count": 89,
   "metadata": {},
   "outputs": [],
   "source": [
    "# !pip install pyviz --user\n",
    "# return most appeared name in the year range\n",
    "def returnNameMentions(date_dict,start_year,end_year):\n",
    "    \n",
    "    mention_dict = {}\n",
    "    print(\"creating graph with start year:\" + str(start_year))\n",
    "    for year1 in date_dict.keys():\n",
    "        if int(year1) < start_year or int(year1) > end_year:\n",
    "            continue\n",
    "            \n",
    "#         print(date_dict[year1])\n",
    "        for key, value in date_dict[year1].items():\n",
    "            mention_dict[key] += value\n",
    "#         #first creating edges in the same year\n",
    "#         for node1 in date_dict[year1]:\n",
    "#             for node2 in date_dict[year1]:\n",
    "#                 if node1 != node2:\n",
    "#                     mygraph.add_edge(node1,node2)\n",
    "                    \n",
    "#         # now creating edges as per window\n",
    "#         for year2 in date_dict.keys():\n",
    "#             if int(year2) < start_year or int(year2) > end_year:\n",
    "#                 continue\n",
    "#             if int(year2) <= int(year1) or int(year2) > int(year1) + window_size:\n",
    "#                 continue\n",
    "#             for node1 in date_dict[year1]:\n",
    "#                 for node2 in date_dict[year2]:\n",
    "#                     if node1 != node2:\n",
    "#                         mygraph.add_edge(node1,node2)\n",
    "    \n",
    "    return mention_dict"
   ]
  },
  {
   "cell_type": "code",
   "execution_count": 90,
   "metadata": {},
   "outputs": [
    {
     "name": "stdout",
     "output_type": "stream",
     "text": [
      "creating graph with start year:1888\n"
     ]
    },
    {
     "ename": "KeyError",
     "evalue": "'Addison'",
     "output_type": "error",
     "traceback": [
      "\u001b[1;31m---------------------------------------------------------------------------\u001b[0m",
      "\u001b[1;31mKeyError\u001b[0m                                  Traceback (most recent call last)",
      "\u001b[1;32m<ipython-input-90-201d012ac9fd>\u001b[0m in \u001b[0;36m<module>\u001b[1;34m\u001b[0m\n\u001b[0;32m      1\u001b[0m \u001b[1;32mfor\u001b[0m \u001b[0myear\u001b[0m \u001b[1;32min\u001b[0m \u001b[0mrange\u001b[0m\u001b[1;33m(\u001b[0m\u001b[0mstart_year\u001b[0m\u001b[1;33m,\u001b[0m \u001b[0mend_year\u001b[0m\u001b[1;33m,\u001b[0m \u001b[0myear_window\u001b[0m\u001b[1;33m)\u001b[0m\u001b[1;33m:\u001b[0m\u001b[1;33m\u001b[0m\u001b[1;33m\u001b[0m\u001b[0m\n\u001b[1;32m----> 2\u001b[1;33m     \u001b[0mprint\u001b[0m\u001b[1;33m(\u001b[0m\u001b[0mreturnNameMentions\u001b[0m\u001b[1;33m(\u001b[0m\u001b[0mdate_to_person_list_with_mention\u001b[0m\u001b[1;33m,\u001b[0m \u001b[0myear\u001b[0m\u001b[1;33m,\u001b[0m \u001b[0myear\u001b[0m\u001b[1;33m+\u001b[0m\u001b[0myear_window\u001b[0m \u001b[1;33m-\u001b[0m\u001b[1;36m1\u001b[0m\u001b[1;33m)\u001b[0m\u001b[1;33m)\u001b[0m\u001b[1;33m\u001b[0m\u001b[1;33m\u001b[0m\u001b[0m\n\u001b[0m",
      "\u001b[1;32m<ipython-input-89-42679c86259b>\u001b[0m in \u001b[0;36mreturnNameMentions\u001b[1;34m(date_dict, start_year, end_year)\u001b[0m\n\u001b[0;32m     11\u001b[0m \u001b[1;31m#         print(date_dict[year1])\u001b[0m\u001b[1;33m\u001b[0m\u001b[1;33m\u001b[0m\u001b[1;33m\u001b[0m\u001b[0m\n\u001b[0;32m     12\u001b[0m         \u001b[1;32mfor\u001b[0m \u001b[0mkey\u001b[0m\u001b[1;33m,\u001b[0m \u001b[0mvalue\u001b[0m \u001b[1;32min\u001b[0m \u001b[0mdate_dict\u001b[0m\u001b[1;33m[\u001b[0m\u001b[0myear1\u001b[0m\u001b[1;33m]\u001b[0m\u001b[1;33m.\u001b[0m\u001b[0mitems\u001b[0m\u001b[1;33m(\u001b[0m\u001b[1;33m)\u001b[0m\u001b[1;33m:\u001b[0m\u001b[1;33m\u001b[0m\u001b[1;33m\u001b[0m\u001b[0m\n\u001b[1;32m---> 13\u001b[1;33m             \u001b[0mmention_dict\u001b[0m\u001b[1;33m[\u001b[0m\u001b[0mkey\u001b[0m\u001b[1;33m]\u001b[0m \u001b[1;33m+=\u001b[0m \u001b[0mvalue\u001b[0m\u001b[1;33m\u001b[0m\u001b[1;33m\u001b[0m\u001b[0m\n\u001b[0m\u001b[0;32m     14\u001b[0m \u001b[1;31m#         #first creating edges in the same year\u001b[0m\u001b[1;33m\u001b[0m\u001b[1;33m\u001b[0m\u001b[1;33m\u001b[0m\u001b[0m\n\u001b[0;32m     15\u001b[0m \u001b[1;31m#         for node1 in date_dict[year1]:\u001b[0m\u001b[1;33m\u001b[0m\u001b[1;33m\u001b[0m\u001b[1;33m\u001b[0m\u001b[0m\n",
      "\u001b[1;31mKeyError\u001b[0m: 'Addison'"
     ]
    }
   ],
   "source": [
    "for year in range(start_year, end_year, year_window):\n",
    "    print(returnNameMentions(date_to_person_list_with_mention, year, year+year_window -1))"
   ]
  },
  {
   "cell_type": "code",
   "execution_count": null,
   "metadata": {},
   "outputs": [],
   "source": []
  }
 ],
 "metadata": {
  "kernelspec": {
   "display_name": "Python 3",
   "language": "python",
   "name": "python3"
  },
  "language_info": {
   "codemirror_mode": {
    "name": "ipython",
    "version": 3
   },
   "file_extension": ".py",
   "mimetype": "text/x-python",
   "name": "python",
   "nbconvert_exporter": "python",
   "pygments_lexer": "ipython3",
   "version": "3.7.4"
  }
 },
 "nbformat": 4,
 "nbformat_minor": 4
}
