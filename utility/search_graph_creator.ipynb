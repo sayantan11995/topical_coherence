{
 "cells": [
  {
   "cell_type": "code",
   "execution_count": 1,
   "metadata": {},
   "outputs": [],
   "source": [
    "import json\n",
    "import networkx as nx\n",
    "import operator\n",
    "import pickle\n",
    "import os, os.path\n",
    "import fnmatch"
   ]
  },
  {
   "cell_type": "code",
   "execution_count": 2,
   "metadata": {},
   "outputs": [],
   "source": [
    "with open('config.json') as handle:\n",
    "    config = json.load(handle)\n",
    "book = config['book_name']\n",
    "Parts = config['number_of_parts']\n",
    "window_size = config['temporal_window_size']"
   ]
  },
  {
   "cell_type": "code",
   "execution_count": 3,
   "metadata": {},
   "outputs": [],
   "source": [
    "with open('json_files/%s/date_place_list.json' % book) as handle:\n",
    "    date_place_list = json.load(handle)\n",
    "\n",
    "with open('json_files/%s/date_person_list.json' %book) as handle:\n",
    "    date_person_list= json.load(handle)"
   ]
  },
  {
   "cell_type": "code",
   "execution_count": 4,
   "metadata": {},
   "outputs": [],
   "source": [
    "def returnGraph(date_dict,start_year,gn):\n",
    "    mygraph = nx.Graph()\n",
    "    print(\"creating graph with year:\" + str(start_year))\n",
    "    if len(date_dict[start_year])==1:\n",
    "        mygraph.add_node(date_dict[start_year][0])\n",
    "    #first creating edges in the same year\n",
    "    for node1 in date_dict[start_year]:\n",
    "        for node2 in date_dict[start_year]:\n",
    "            if node1 != node2:\n",
    "                mygraph.add_edge(node1,node2)\n",
    "        if gn==1:\n",
    "            mygraph.add_edge(node1,'Gandhi')\n",
    "    return mygraph"
   ]
  },
  {
   "cell_type": "code",
   "execution_count": 5,
   "metadata": {},
   "outputs": [
    {
     "name": "stdout",
     "output_type": "stream",
     "text": [
      "creating graph with year:1869\n",
      "graph_place number of nodes:5 number of edges:10\n",
      "creating graph with year:1920\n",
      "graph_place number of nodes:9 number of edges:36\n",
      "creating graph with year:1921\n",
      "graph_place number of nodes:1 number of edges:0\n",
      "creating graph with year:1894\n",
      "graph_place number of nodes:11 number of edges:55\n",
      "creating graph with year:1924\n",
      "graph_place number of nodes:9 number of edges:36\n",
      "creating graph with year:1906\n",
      "graph_place number of nodes:8 number of edges:28\n",
      "creating graph with year:1896\n",
      "graph_place number of nodes:15 number of edges:105\n",
      "creating graph with year:1897\n",
      "graph_place number of nodes:5 number of edges:10\n",
      "creating graph with year:1890\n",
      "graph_place number of nodes:17 number of edges:136\n",
      "creating graph with year:1891\n",
      "graph_place number of nodes:4 number of edges:6\n",
      "creating graph with year:1893\n",
      "graph_place number of nodes:14 number of edges:91\n",
      "creating graph with year:1857\n",
      "graph_place number of nodes:4 number of edges:6\n",
      "creating graph with year:1901\n",
      "graph_place number of nodes:1 number of edges:0\n",
      "creating graph with year:1904\n",
      "graph_place number of nodes:10 number of edges:45\n",
      "creating graph with year:1919\n",
      "graph_place number of nodes:29 number of edges:406\n",
      "creating graph with year:1887\n",
      "graph_place number of nodes:12 number of edges:66\n",
      "creating graph with year:1886\n",
      "graph_place number of nodes:6 number of edges:15\n",
      "creating graph with year:1912\n",
      "graph_place number of nodes:2 number of edges:1\n",
      "creating graph with year:1915\n",
      "graph_place number of nodes:25 number of edges:300\n",
      "creating graph with year:1914\n",
      "graph_place number of nodes:10 number of edges:45\n",
      "creating graph with year:1917\n",
      "graph_place number of nodes:2 number of edges:1\n",
      "creating graph with year:1911\n",
      "graph_place number of nodes:2 number of edges:1\n",
      "creating graph with year:1903\n",
      "graph_place number of nodes:7 number of edges:21\n",
      "creating graph with year:1869\n",
      "graph_person number of nodes:12 number of edges:66\n",
      "creating graph with year:1920\n",
      "graph_person number of nodes:15 number of edges:105\n",
      "creating graph with year:1921\n",
      "graph_person number of nodes:3 number of edges:3\n",
      "creating graph with year:1894\n",
      "graph_person number of nodes:15 number of edges:105\n",
      "creating graph with year:1924\n",
      "graph_person number of nodes:7 number of edges:21\n",
      "creating graph with year:1906\n",
      "graph_person number of nodes:9 number of edges:36\n",
      "creating graph with year:1896\n",
      "graph_person number of nodes:29 number of edges:406\n",
      "creating graph with year:1897\n",
      "graph_person number of nodes:4 number of edges:6\n",
      "creating graph with year:1890\n",
      "graph_person number of nodes:11 number of edges:55\n",
      "creating graph with year:1891\n",
      "graph_person number of nodes:3 number of edges:3\n",
      "creating graph with year:1893\n",
      "graph_person number of nodes:16 number of edges:120\n",
      "creating graph with year:1857\n",
      "graph_person number of nodes:7 number of edges:21\n",
      "creating graph with year:1901\n",
      "graph_person number of nodes:7 number of edges:21\n",
      "creating graph with year:1904\n",
      "graph_person number of nodes:15 number of edges:105\n",
      "creating graph with year:1919\n",
      "graph_person number of nodes:47 number of edges:1081\n",
      "creating graph with year:1887\n",
      "graph_person number of nodes:12 number of edges:66\n",
      "creating graph with year:1886\n",
      "graph_person number of nodes:7 number of edges:21\n",
      "creating graph with year:1912\n",
      "graph_person number of nodes:3 number of edges:3\n",
      "creating graph with year:1915\n",
      "graph_person number of nodes:80 number of edges:3160\n",
      "creating graph with year:1914\n",
      "graph_person number of nodes:11 number of edges:55\n",
      "creating graph with year:1917\n",
      "graph_person number of nodes:5 number of edges:10\n",
      "creating graph with year:1903\n",
      "graph_person number of nodes:9 number of edges:36\n"
     ]
    }
   ],
   "source": [
    "for year in date_place_list.keys():\n",
    "    if not date_place_list[year]:\n",
    "        continue\n",
    "    graph_place = returnGraph(date_place_list,year,0)\n",
    "    \n",
    "    graph_place_nodes = graph_place.number_of_nodes()\n",
    "    graph_place_edges = graph_place.number_of_edges()\n",
    "    print(\"graph_place number of nodes:\" + str(graph_place_nodes) + \" number of edges:\" + str(graph_place_edges))\n",
    "    nx.write_graphml(graph_place, 'temporal_graphs/%s/search_year_wise/graph_place' % book + '_year_' + str(year) + '.xml')\n",
    "\n",
    "for year in date_person_list.keys():\n",
    "    if not date_person_list[year]:\n",
    "        continue\n",
    "    graph_person = returnGraph(date_person_list,year,1)\n",
    "    graph_person_nodes = graph_person.number_of_nodes()\n",
    "    graph_person_edges = graph_person.number_of_edges()\n",
    "\n",
    "    print(\"graph_person number of nodes:\" + str(graph_person_nodes) + \" number of edges:\" + str(graph_person_edges))   \n",
    "    nx.write_graphml(graph_person, 'temporal_graphs/%s/search_year_wise/graph_person'% book + '_year_' + str(year) +'.xml')"
   ]
  },
  {
   "cell_type": "code",
   "execution_count": 6,
   "metadata": {},
   "outputs": [
    {
     "data": {
      "text/plain": [
       "[u'Johannesburg', u'South Africa']"
      ]
     },
     "execution_count": 6,
     "metadata": {},
     "output_type": "execute_result"
    }
   ],
   "source": [
    "date_place_list['1911']"
   ]
  },
  {
   "cell_type": "code",
   "execution_count": 7,
   "metadata": {},
   "outputs": [
    {
     "data": {
      "text/plain": [
       "[]"
      ]
     },
     "execution_count": 7,
     "metadata": {},
     "output_type": "execute_result"
    }
   ],
   "source": [
    "date_person_list['1911']"
   ]
  },
  {
   "cell_type": "code",
   "execution_count": null,
   "metadata": {},
   "outputs": [],
   "source": []
  }
 ],
 "metadata": {
  "kernelspec": {
   "display_name": "Python 3",
   "language": "python",
   "name": "python3"
  },
  "language_info": {
   "codemirror_mode": {
    "name": "ipython",
    "version": 2
   },
   "file_extension": ".py",
   "mimetype": "text/x-python",
   "name": "python",
   "nbconvert_exporter": "python",
   "pygments_lexer": "ipython2",
   "version": "2.7.15"
  }
 },
 "nbformat": 4,
 "nbformat_minor": 2
}
