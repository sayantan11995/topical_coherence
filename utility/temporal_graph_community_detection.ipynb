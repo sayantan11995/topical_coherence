{
 "cells": [
  {
   "cell_type": "code",
   "execution_count": 9,
   "metadata": {},
   "outputs": [],
   "source": [
    "from networkx.readwrite import json_graph\n",
    "import networkx as nx\n",
    "import numpy as np\n",
    "import matplotlib.pyplot as plt\n",
    "from networkx.algorithms.community import greedy_modularity_communities\n",
    "import itertools\n",
    "import community\n",
    "import os, os.path\n",
    "import fnmatch\n",
    "import random as rand\n",
    "import json\n",
    "import matplotlib.colors as colors\n",
    "import matplotlib.cm as cmx\n"
   ]
  },
  {
   "cell_type": "code",
   "execution_count": 10,
   "metadata": {},
   "outputs": [],
   "source": [
    "with open('config.json') as handle:\n",
    "    config = json.load(handle)\n",
    "book = config['book_name']\n",
    "window_size = config['temporal_window_size'] \n",
    "dir_path = './%s/part'% book\n",
    "image_path = \"./community_images/temporal_graphs/%s/\" %book"
   ]
  },
  {
   "cell_type": "code",
   "execution_count": 11,
   "metadata": {},
   "outputs": [],
   "source": [
    "temporal_year_list = [[1885,1894],[1895,1904],[1905,1915],[1915,1924]]\n",
    "with open('json_files/' + book + '/name_to_fullname.json') as handle:\n",
    "    name_to_fullname = json.load(handle)\n",
    "community_list = {}\n",
    "community_list['person'] = {}\n",
    "community_list['place'] = {}"
   ]
  },
  {
   "cell_type": "code",
   "execution_count": 12,
   "metadata": {},
   "outputs": [
    {
     "name": "stdout",
     "output_type": "stream",
     "text": [
      "{'Bhavnagar': 0, 'Paris': 1, 'Malta': 0, 'France': 1, 'Richmond': 1, 'Johannesburg': 1, 'Junagadh': 0, 'Lahore': 2, 'North': 2, 'Rajkot': 2, 'Durban': 1, 'Delhi': 2, 'Natal': 1, 'Germany': 1, 'Porbandar': 2, 'London': 0, 'America': 1, 'Ahmedabad': 0, 'Brighton': 1, 'Karachi': 2, 'Southampton': 0, 'Wellington': 0, 'Netley': 1, 'Rome': 2, 'Aden': 1, 'Pretoria': 2, 'Charlestown': 2, 'Portsmouth': 1, 'England': 2, 'South Africa': 0, 'India': 0, 'Ventnor': 1, 'Mozambique': 2, 'Zanzibar': 2}\n",
      "{'Mavji Dave': 0, 'Cecilia Roberts': 1, 'Malaviyaji': 2, 'Jehangir Petit': 2, 'Muhammad Kasam Kamruddin': 2, 'Rajchandra': 2, 'Dada Abdulla': 0, 'Dawud': 2, 'Balasundaram': 2, 'Lady Tata': 2, 'Dalpatram': 0, 'Akho': 1, 'Maffey': 2, 'Addison': 1, 'John Burns': 1, 'Narsinhram': 2, 'Ladha Maharaj': 0, 'Krause': 0, 'Frederic': 0, 'Escombe': 2, 'Allinson': 0, 'Dadabhai Naoroji': 0, 'Anna Kingsford': 0, 'Rangasami Padiachi': 2, 'Narmadashanker': 2, 'Tulasidas': 0, 'Pearson': 2, 'Lord Elgin': 2, 'George Muller': 0, 'Virchand': 2, 'Snell': 1, 'Narayan Hemchandra': 1, 'Ravishankar': 2, 'Gokhale': 1, 'Ripon': 2, 'Rambha': 0, 'Lallubhai Samaldas': 2, 'Parsi Rustomji': 1, 'Gabb': 2, 'Natarajan': 2, 'Sorabji Adajania': 1, 'Sheth Abdul Karim Jhaveri': 2, 'Jivraj Mehta': 1, 'Becharji Swami': 0, 'Dilshad Begam': 2, 'Goodeve': 1, 'Mohandas': 0, 'Tryambakrai Mazmudar': 0, 'Sheth Abubakar Amod': 2, 'Edward Maitland': 0, 'Tyeb Sheth': 0, 'Chelmsford': 2}\n",
      "{'Louth': 1, 'England': 1, 'Rajkot': 1, 'Durban': 0, 'Phoenix': 0, 'Scotland': 0, 'South Africa': 0, 'India': 1, 'Young': 0, 'Natal': 0, 'Johannesburg': 0, 'Poona': 1, 'London': 1, 'Allahabad': 1, 'North': 0, 'Manchester': 0, 'Empire': 1, 'America': 0, 'Pretoria': 0, 'Leicester': 1, 'Zanzibar': 1}\n",
      "{'Miss Schlesin': 0, 'Harilal': 1, 'Keshav Chandra Sen': 1, 'Dada Abdulla': 1, 'Lokamanya Tilak': 1, 'Surendranath Banerji': 1, 'Kuhne': 0, 'Sheth Tyeb Haji Khanmahomed': 0, 'Besant': 1, 'Gokhlae': 1, 'Revashankarbhai': 0, 'Madanjit': 0, 'Ritch': 0, 'Nazar': 0, 'Babu Kalicharan Banerji': 1, 'Wacha': 1, 'Curzon': 2, 'Ranade': 1, 'Bhupenbabu': 2, 'Escombe': 1, 'Polak': 0, 'Kalyandas': 0, 'Edward VII': 1, 'Subrahmaniam': 1, 'Chimanlal Setalvad': 2, 'Buller': 1, 'Pillay': 1, 'Maneklal': 0, 'Mullick': 1, 'Chhaganlal Gandhi': 0, 'Bhandarkar': 1, 'Snell': 0, 'Mansukhlal Naazar': 1, 'Chesney': 1, 'Gokhale': 2, 'Maganlal': 0, 'Patanjali': 0, 'Kathavate': 1, 'William Godfrey': 0, 'Macdonald': 0, 'Parsi Rustomji': 1, 'Saunders': 1, 'Abbas': 1, 'Govindaswami': 0, 'Ramdas': 1, 'Badri': 0, 'Maharaja Tagore': 1, 'Pestonji': 1, 'Mitter': 1, 'Swami Vivekanand': 1, 'Tyeb Sheth': 0, 'Ghosalbabu': 2}\n",
      "{'Sabarmati': 0, 'Paris': 0, 'Nepal': 0, 'Johannesburg': 1, 'Amritsar': 0, 'Patna': 0, 'Ireland': 0, 'Lahore': 0, 'North': 0, 'Rajkot': 0, 'Durban': 1, 'Delhi': 0, 'Natal': 1, 'Porbandar': 0, 'London': 0, 'Vijapur': 0, 'Ahmedabad': 0, 'Kheda': 1, 'Lucknow': 0, 'Poona': 0, 'Bettiah': 0, 'Palanpur': 0, 'Ganges': 0, 'Pretoria': 1, 'Hyderabad': 0, 'England': 1, 'Phoenix': 1, 'South Africa': 1, 'India': 0, 'Viramgam': 0, 'Madeira': 0, 'Muzaffarpur': 0}\n",
      "{'Babu Bhupendranath Basu': 0, 'Crewe': 0, 'Abbas': 0, 'Pragji': 1, 'Acharya Ramadevji': 0, 'Jayakar': 0, 'Punjabhai': 0, 'Kaul': 0, 'Keshavrao Deshpande': 0, 'Maulana Abdul Bari Saheb': 0, 'Pearson': 0, 'Motilalji': 0, 'Hakim Saheb': 0, 'Mahadev Desai': 0, 'Shrimatis Avantikabai': 0, 'Jivraj Mehta': 0, 'Malaviyaji': 0, 'Kalelkar': 0, \"Michael O'Dwyer\": 0, 'Gaya Babu': 0, 'Bepin': 0, 'Umar Sobani': 0, 'Edward Gait': 0, 'Kuhne': 0, 'Shambhaubabu': 0, 'Shrimati Vasumatibehn': 0, 'Jeramdas': 2, 'Gangabehn Majmundar': 0, 'Ranade': 2, 'Babasaheb Soman': 0, 'Kelkar': 0, 'Maulana Mazharul Haq': 0, 'Kripalani': 0, 'Phadke': 0, 'Valji': 2, 'Shankarlal Parikh': 0, 'Chhotalal': 0, 'Hasrat Saheb': 0, 'Devdas': 0, 'Danibehn': 0, 'Sushil Rudra': 0, 'Janakdharibabu': 0, 'Maganlal': 2, 'Amritlal Thakkar': 0, 'Jagadanandbabu': 0, 'Ambalal Sarabhai': 0, 'Mohanlal': 0, 'Yashvantprasad Desai': 0, 'Dada Abdulla': 0, 'Ramnavmi Prasad': 0, 'Lala Harkishanlal': 0, 'Kakasaheb': 0, 'Gorakhbabu': 0, 'Gangadharrao': 0, 'Allinson': 2, 'Ramibai Kamdar': 0, 'Choithram': 0, 'Kitchlu': 0, 'Mahatma Munshiramji': 0, 'Gokhale': 2, 'Babu Brajkishore Prasad': 0, 'Sharadbabu': 0, 'Chintaman': 0, 'Manilal': 0, 'Chhaganlal Gandhi': 0, 'Sorabji Adajania': 0, 'Shivji': 0, 'Sinha': 0, 'Patwardhan': 0, 'Babu Dharanidhar Prasad': 0, 'Chelmsford': 0, 'Kasturbai': 1, 'Jehangir Petit': 0, 'Jivanlal': 0, 'Shrimati Anandibai': 0, 'Hakim Ajmal Khan Saheb': 0, 'Nishkulanand': 2, 'Rajkumar Shukla': 0, 'Malkani': 0, 'Polak': 0, 'Vaidyanathadham': 0, 'Lakshmidas': 0, 'Brajkishorebabu': 0, 'Harihar Sharma': 0, 'Thakkar Bapa': 0, 'Deshabandhu': 0, 'Rajendra Babu': 0, 'Shrimati Durga Desai': 0, 'Brajkishore Babu': 0, 'Ramdas': 0, 'Satyapal': 0, 'Nagenbabu': 0, 'Hermann Kallenbach': 2}\n",
      "{'Italy': 0, 'Sabarmati': 1, 'Madras': 0, 'Jaipur': 0, 'Nepal': 1, 'Betul': 0, 'Johannesburg': 2, 'Jamnagar': 0, 'Patna': 1, 'Lahore': 1, 'Nadiad': 0, 'Mirzapur': 0, 'Rajkot': 1, 'Durban': 0, 'Delhi': 1, 'Payne': 0, 'Santa Cruz': 0, 'Natal': 0, 'Germany': 0, 'Allahabad': 0, 'Veraval': 0, 'Palwal': 0, 'Vijapur': 1, 'Charlestown': 2, 'Ahmedabad': 1, 'Kheda': 1, 'Amritsar': 1, 'Porbandar': 1, 'Lucknow': 1, 'Poona': 1, 'Bettiah': 1, 'Nagpur': 0, 'Simla': 0, 'Palanpur': 0, 'Ganges': 1, 'North': 1, 'Ruskin': 0, 'Pretoria': 2, 'Hyderabad': 1, 'England': 2, 'Phoenix': 1, 'South Africa': 2, 'India': 2, 'Viramgam': 1, 'Salem': 0, 'London': 1, 'Zanzibar': 2, 'Muzaffarpur': 1}\n",
      "{'Babu Bhupendranath Basu': 0, 'Anandshankar': 1, 'Sheth Ambalal': 1, 'Abbas': 1, 'Shrimati Vasumatibehn': 0, 'Chintaman': 0, 'Punjabhai': 0, 'Mahomed Ali': 1, 'Kaul': 0, 'Keshavrao Deshpande': 0, 'Maulana Abdul Bari Saheb': 0, 'Pearson': 0, 'Chhaganlal Gandhi': 0, 'Motilalji': 1, 'Hakim Saheb': 1, 'Mahadev Desai': 1, 'Shrimatis Avantikabai': 0, 'Abdur Rahman': 1, 'Parsi Rustomji': 2, 'Malaviyaji': 1, 'Kanuga': 1, 'Lalaji': 1, 'Horniman': 1, 'Shastriji': 1, 'Shrimati Sarojini Devi': 1, \"Michael O'Dwyer\": 1, 'Gaya Babu': 0, 'Bepin': 0, 'Shrimati Anasuyabehn': 1, 'Edward Gait': 0, 'Kuhne': 1, 'Samarth': 1, 'Shambhaubabu': 0, 'Ansari': 1, 'Acharya Ramadevji': 0, 'Indulal': 1, 'Jeramdas': 0, 'Gangabehn Majmundar': 0, 'Babasaheb Soman': 0, 'Tribhuvandas': 1, 'Vithaldas Jerajani': 1, 'Kelkar': 1, 'Maulana Mazharul Haq': 0, 'Kripalani': 0, 'Phadke': 0, 'Shankarlal Parikh': 1, 'Sayani': 1, 'Hasrat Saheb': 0, 'Devdas': 0, 'Danibehn': 0, 'Sushil Rudra': 0, 'Janakdharibabu': 0, 'Abdul Gani Sheth': 2, 'Amritlal Thakkar': 0, 'Jagadanandbabu': 0, 'Ambalal Sarabhai': 0, 'James Godfery': 2, 'Chhotalal': 0, 'Mohanlal': 1, 'Sarladevi': 1, 'Yashvantprasad Desai': 0, 'Brelvi': 1, 'Dada Abdulla': 1, 'Lokamanya Tilak': 1, 'Ramnavmi Prasad': 0, 'Lala Harkishanlal': 0, 'Dhruva': 1, 'Naidu': 1, 'Besant': 1, 'Dinabandhu': 1, 'Kakasaheb': 0, 'Gorakhbabu': 0, 'Escombe': 1, 'Ramibai Kamdar': 0, 'Fulchand': 1, 'Vallabhbhai Patel': 1, 'Kasturi': 1, 'Kitchlu': 1, 'Gangadharrao': 0, 'Ramanbhai': 1, 'Mansukhlal Naazar': 1, 'Mahatma Munshiramji': 0, 'Gokhale': 1, 'Babu Brajkishore Prasad': 0, 'Sharadbabu': 0, 'Jayakar': 0, 'Manilal': 1, 'Umar Sobani': 1, 'Kalelkar': 0, 'Shivji': 0, 'Maulana Abdul Kalam Azad': 1, 'Yajnik': 1, 'Sinha': 0, 'Patwardhan': 1, 'Babu Dharanidhar Prasad': 0, 'Chelmsford': 1, 'Kasturbai': 1, 'Jehangir Petit': 0, 'Muhammad Kasam Kamruddin': 2, 'Talvalkar': 1, 'Choithram': 0, 'Jivanlal': 0, 'Shrimati Anandibai': 0, 'Hakim Ajmal Khan Saheb': 1, 'Vithalbhai': 1, 'Rajkumar Shukla': 0, 'Malkani': 0, 'Bowring': 1, 'Rajagopalachari': 1, 'Brijkishore': 0, 'Vaidyanathadham': 0, 'Kevalram Dave': 1, 'Lakshmidas': 0, 'Brajkishorebabu': 0, 'Harihar Sharma': 0, 'Thakkar Bapa': 0, 'Deshabandhu': 0, 'Rajendra Babu': 0, 'Shrimati Durga Desai': 0, 'Brajkishore Babu': 0, 'Ramdas': 0, 'Satyapal': 1, 'Nagenbabu': 0, 'Maulana Shaukat Ali': 1, 'Tyeb Sheth': 2}\n"
     ]
    }
   ],
   "source": [
    "for year_range in temporal_year_list:\n",
    "    start_year = year_range[0]\n",
    "    end_year = year_range[1]\n",
    "    for graph_type in [\"place\",\"person\"]:\n",
    "        year_range = str(start_year) + '-' + str(end_year)\n",
    "        community_list[graph_type][year_range] = {}\n",
    "        \"\"\"\n",
    "        with open('json_files/' + book + '/' + graph_type + '_entity_year_dict.json') as handle:\n",
    "            node_year_list = json.load(handle)\n",
    "        \"\"\"\n",
    "\n",
    "        #convert list of years to string so that it can be easily stored\n",
    "        \"\"\"\n",
    "        node_year_string = {}\n",
    "        for node in node_year_list.keys():\n",
    "            node_year_string[node]  = '_'.join(node_year_list[node])\n",
    "        \"\"\"\n",
    "        graph_file_path = 'temporal_graphs/' + book +'/graph_' + graph_type + '_startyear_' + str(start_year) + '_endyear_' + str(end_year) + '.xml'\n",
    "        G = nx.read_graphml(graph_file_path)\n",
    "        # python-louvain\n",
    "\n",
    "        part_graph = community.best_partition(G)\n",
    "        community_dict = {}\n",
    "        year_dict = {}\n",
    "        for node in G.nodes():\n",
    "            if node not in year_dict:\n",
    "                year_dict[node] = []\n",
    "            community_dict[node] = part_graph.get(node)\n",
    "\n",
    "        communities = [part_graph.get(node) for node in G.nodes()]\n",
    "        plt.figure(figsize=(30, 30))\n",
    "        nx.draw_networkx(G, cmap = plt.get_cmap('Pastel1'), node_color = communities, with_labels=True,\n",
    "                         pos = nx.spring_layout(G, k=0.3*1/np.sqrt(len(G.nodes())),\n",
    "                         iterations=20), font_weight='bold', font_family = 'serif',edge_color = '#acff9d',node_size = 600)\n",
    "        plt.savefig(image_path + graph_type + \"_windowsize_\" + str(window_size) + \"_louvian.png\")\n",
    "        plt.close()\n",
    "        pos = nx.spring_layout(G, k=0.3*1/np.sqrt(len(G.nodes())))\n",
    "\n",
    "        nx.set_node_attributes(G, name='community', values=community_dict)\n",
    "        for entity,community_no in community_dict.items():\n",
    "            community_str = \"community_\" +str(community_no)\n",
    "            if community_str not in community_list[graph_type][year_range].keys():\n",
    "                community_list[graph_type][year_range][community_str] = []\n",
    "            if entity in name_to_fullname.keys():\n",
    "                community_list[graph_type][year_range][community_str].append(name_to_fullname[entity])\n",
    "            else:\n",
    "                community_list[graph_type][year_range][community_str].append(entity)\n",
    "            \n",
    "        print(community_dict)\n",
    "        # need to figure out how to pass it as list\n",
    "        #nx.set_node_attributes(G, name='years', values=node_year_string)\n",
    "        nx.write_graphml(G, 'temporal_graphs/' + book + '/graph_' + graph_type  + '_startyear_' + str(start_year) + '_endyear_' + str(end_year) + '_community.xml')"
   ]
  },
  {
   "cell_type": "code",
   "execution_count": 13,
   "metadata": {},
   "outputs": [],
   "source": [
    "with open('json_files/%s/community_people_list.json' % book, 'w') as handle:\n",
    "    json.dump(community_list[\"person\"],handle,indent = 4)\n",
    "\n",
    "with open('json_files/%s/community_place_list.json' % book, 'w') as handle:\n",
    "    json.dump(community_list['place'],handle,indent = 4)"
   ]
  }
 ],
 "metadata": {
  "kernelspec": {
   "display_name": "Python 3",
   "language": "python",
   "name": "python3"
  },
  "language_info": {
   "codemirror_mode": {
    "name": "ipython",
    "version": 3
   },
   "file_extension": ".py",
   "mimetype": "text/x-python",
   "name": "python",
   "nbconvert_exporter": "python",
   "pygments_lexer": "ipython3",
   "version": "3.7.4"
  }
 },
 "nbformat": 4,
 "nbformat_minor": 2
}
