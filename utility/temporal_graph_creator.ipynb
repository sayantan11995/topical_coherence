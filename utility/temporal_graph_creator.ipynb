{
 "cells": [
  {
   "cell_type": "code",
   "execution_count": 1,
   "metadata": {},
   "outputs": [
    {
     "name": "stderr",
     "output_type": "stream",
     "text": [
      "C:\\ProgramData\\Anaconda3_new\\lib\\site-packages\\numpy\\_distributor_init.py:32: UserWarning: loaded more than 1 DLL from .libs:\n",
      "C:\\ProgramData\\Anaconda3_new\\lib\\site-packages\\numpy\\.libs\\libopenblas.GK7GX5KEQ4F6UYO3P26ULGBQYHGQO7J4.gfortran-win_amd64.dll\n",
      "C:\\ProgramData\\Anaconda3_new\\lib\\site-packages\\numpy\\.libs\\libopenblas.NOIJJG62EMASZI6NYURL6JBKM4EVBGM7.gfortran-win_amd64.dll\n",
      "  stacklevel=1)\n"
     ]
    }
   ],
   "source": [
    "import json\n",
    "import networkx as nx\n",
    "import operator\n",
    "import pickle\n",
    "import os, os.path\n",
    "import fnmatch"
   ]
  },
  {
   "cell_type": "code",
   "execution_count": 2,
   "metadata": {},
   "outputs": [],
   "source": [
    "with open('config.json') as handle:\n",
    "    config = json.load(handle)\n",
    "book = config['book_name']\n",
    "Parts = config['number_of_parts']\n",
    "window_size = config['temporal_window_size']"
   ]
  },
  {
   "cell_type": "code",
   "execution_count": 3,
   "metadata": {},
   "outputs": [],
   "source": [
    "with open('json_files/%s/date_place_list.json' % book) as handle:\n",
    "    date_place_list = json.load(handle)\n",
    "\n",
    "with open('json_files/%s/date_person_list.json' %book) as handle:\n",
    "    date_person_list= json.load(handle)"
   ]
  },
  {
   "cell_type": "code",
   "execution_count": 4,
   "metadata": {},
   "outputs": [],
   "source": [
    "# temporal_year_list = [[1885,1894],[1895,1904],[1905,1915],[1915,1924]]\n",
    "\n",
    "# temporal_year_list = [[1888,1924],[1925,1931],[1932,1941],[1942,1948]]\n",
    "\n",
    "temporal_year_list = [[1888,1914]]"
   ]
  },
  {
   "cell_type": "code",
   "execution_count": 17,
   "metadata": {},
   "outputs": [],
   "source": [
    "# given date dict creates and returns temporal graph\n",
    "def returnGraph(date_dict,start_year,end_year):\n",
    "    mygraph = nx.Graph()\n",
    "    print(\"creating graph with start year:\" + str(start_year))\n",
    "    for year1 in date_dict.keys():\n",
    "        if int(year1) < start_year or int(year1) > end_year:\n",
    "            continue\n",
    "        #first creating edges in the same year\n",
    "        for node1 in date_dict[year1]:\n",
    "            for node2 in date_dict[year1]:\n",
    "                if node1 != node2:\n",
    "                    mygraph.add_edge(node1,node2)\n",
    "                    \n",
    "        # now creating edges as per window\n",
    "        for year2 in date_dict.keys():\n",
    "            if int(year2) < start_year or int(year2) > end_year:\n",
    "                continue\n",
    "            if int(year2) <= int(year1) or int(year2) > int(year1) + window_size:\n",
    "                continue\n",
    "            for node1 in date_dict[year1]:\n",
    "                for node2 in date_dict[year2]:\n",
    "                    if node1 != node2:\n",
    "                        mygraph.add_edge(node1,node2)\n",
    "    \n",
    "    return mygraph"
   ]
  },
  {
   "cell_type": "code",
   "execution_count": 18,
   "metadata": {},
   "outputs": [
    {
     "name": "stdout",
     "output_type": "stream",
     "text": [
      "creating graph with start year:1888\n",
      "creating graph with start year:1888\n",
      "graph_place number of nodes:68 number of edges:1151\n",
      "graph_person number of nodes:197 number of edges:6140\n"
     ]
    }
   ],
   "source": [
    "for year_range in temporal_year_list:\n",
    "    start_year = year_range[0]\n",
    "    end_year = year_range[1]\n",
    "    graph_place = returnGraph(date_place_list,start_year,end_year)\n",
    "    graph_person = returnGraph(date_person_list,start_year,end_year)\n",
    "\n",
    "    graph_place_nodes = graph_place.number_of_nodes()\n",
    "    graph_place_edges = graph_place.number_of_edges()\n",
    "\n",
    "    graph_person_nodes = graph_person.number_of_nodes()\n",
    "    graph_person_edges = graph_person.number_of_edges()\n",
    "\n",
    "    print(\"graph_place number of nodes:\" + str(graph_place_nodes) + \" number of edges:\" + str(graph_place_edges))\n",
    "    print(\"graph_person number of nodes:\" + str(graph_person_nodes) + \" number of edges:\" + str(graph_person_edges))\n",
    "    \n",
    "    nx.write_graphml(graph_person, 'Results/%s' % book + '_startyear_' + str(start_year) + '_endyear_' + str(end_year) + '.xml')\n",
    "#     nx.write_graphml(graph_place, 'temporal_graphs/%s/graph_place' % book + '_startyear_' + str(start_year) + '_endyear_' + str(end_year) + '.xml')\n",
    "\n",
    "#     nx.write_graphml(graph_person, 'temporal_graphs/%s/graph_person'% book + '_startyear_' + str(start_year) + '_endyear_' + str(end_year) +'.xml')"
   ]
  },
  {
   "cell_type": "code",
   "execution_count": 19,
   "metadata": {},
   "outputs": [
    {
     "name": "stdout",
     "output_type": "stream",
     "text": [
      "creating graph with start year:1888\n",
      "diameter: 3\n",
      "center: ['Abbas', 'Motilalji', 'Malaviyaji', 'Dada Abdulla', 'Umar Sobani', 'Patwardhan', 'Hakim Saheb', 'Jehangir Petit', 'Gokhale', 'Chelmsford', 'Chhaganlal Gandhi', 'Polak', 'Sorabji Adajania', 'Jivraj Mehta', 'Kuhne', 'Rajkumar Shukla', 'Babu Brajkishore Prasad', 'Rajendra Babu', 'Pearson', 'Ramdas', 'Kasturbai', \"Michael O'Dwyer\", 'Hakim Ajmal Khan Saheb', 'Kelkar', 'Kitchlu', 'Shankarlal Parikh', 'Manilal', 'Mahadev Desai', 'Satyapal', 'Mohanlal', 'Babu Bhupendranath Basu', 'Yashvantprasad Desai', 'Bepin', 'Gangabehn Majmundar', 'Ramnavmi Prasad', 'Edward Gait', 'Jivanlal', 'Sharadbabu', 'Shrimati Anandibai', 'Acharya Ramadevji', 'Jayakar', 'Shambhaubabu', 'Shrimati Vasumatibehn', 'Kakasaheb', 'Gorakhbabu', 'Ambalal Sarabhai', 'Jeramdas', 'Shrimatis Avantikabai', 'Sinha', 'Punjabhai', 'Babasaheb Soman', 'Janakdharibabu', 'Gangadharrao', 'Gaya Babu', 'Kaul', 'Ramibai Kamdar', 'Maulana Mazharul Haq', 'Chintaman', 'Kripalani', 'Mahatma Munshiramji', 'Phadke', 'Choithram', 'Lakshmidas', 'Hasrat Saheb', 'Devdas', 'Danibehn', 'Sushil Rudra', 'Kalelkar', 'Harihar Sharma', 'Brajkishorebabu', 'Thakkar Bapa', 'Deshabandhu', 'Amritlal Thakkar', 'Jagadanandbabu', 'Shrimati Durga Desai', 'Brajkishore Babu', 'Malkani', 'Shivji', 'Chhotalal', 'Vaidyanathadham', 'Nagenbabu', 'Maulana Abdul Bari Saheb', 'Keshavrao Deshpande', 'Babu Dharanidhar Prasad', 'Lala Harkishanlal', 'Crewe']\n",
      "periphery: ['Tribhuvandas', 'Maulana Abdul Kalam Azad', 'Mansukhlal Naazar', 'Escombe', 'Maulana Shaukat Ali', 'Lalaji', 'Besant', 'Parsi Rustomji', 'James Godfery', 'Muhammad Kasam Kamruddin', 'Abdul Gani Sheth', 'Tyeb Sheth', 'Narmadashanker', 'Natarajan', 'Balasundaram', 'Lord Elgin', 'Dilshad Begam', 'Lallubhai Samaldas', 'Lady Tata', 'Sheth Abubakar Amod', 'Maffey', 'William Godfrey', 'Miss Schlesin', 'Maneklal', 'Ritch', 'Nazar', 'Govindaswami', 'Badri', 'Macdonald', 'Maganlal', 'Kalyandas', 'Madanjit', 'Buller', 'Addison', 'Cecilia Roberts', 'John Burns', 'Narayan Hemchandra', 'Allinson', 'Akho', 'Goodeve', 'Snell', 'Patanjali', 'Sheth Tyeb Haji Khanmahomed', 'Revashankarbhai', 'Bhupenbabu', 'Wacha', 'Curzon', 'Chimanlal Setalvad', 'Ghosalbabu', 'Brijkishore', 'Rangasami Padiachi', 'Rajchandra', 'Dawud', 'Ravishankar', 'Ripon', 'Narsinhram', 'Sheth Abdul Karim Jhaveri', 'Virchand', 'Gabb', 'Keshav Chandra Sen', 'Lokamanya Tilak', 'Harilal', 'Gokhlae', 'Babu Kalicharan Banerji', 'Ranade', 'Edward VII', 'Subrahmaniam', 'Pillay', 'Mullick', 'Bhandarkar', 'Chesney', 'Kathavate', 'Surendranath Banerji', 'Saunders', 'Maharaja Tagore', 'Pestonji', 'Mitter', 'Swami Vivekanand', 'Naidu', 'Sarladevi', 'Brelvi', 'Sheth Ambalal', 'Dhruva', 'Ramanbhai', 'Samarth', 'Dinabandhu', 'Vithalbhai', 'Indulal', 'Talvalkar', 'Bowring', 'Rajagopalachari', 'Vithaldas Jerajani', 'Fulchand', 'Vallabhbhai Patel', 'Ansari', 'Kasturi', 'Kevalram Dave', 'Sayani', 'Anandshankar', 'Abdur Rahman', 'Shrimati Anasuyabehn', 'Kanuga', 'Mahomed Ali', 'Yajnik', 'Shrimati Sarojini Devi', 'Horniman', 'Shastriji', 'Pragji', 'Valji', 'Hermann Kallenbach', 'Nishkulanand']\n",
      "density: 0.318035843779136\n",
      "clustering coefficient:  0.9214466488299157\n",
      "closeness centrality:  {'Gokhale': 0.98, 'Dada Abdulla': 0.8634361233480177, 'Kuhne': 0.8412017167381974, 'Abbas': 0.7871485943775101, 'Malaviyaji': 0.7871485943775101, 'Chelmsford': 0.7871485943775101, 'Polak': 0.7368421052631579, 'Kasturbai': 0.7286245353159851, 'Motilalji': 0.725925925925926, 'Umar Sobani': 0.725925925925926}\n",
      "betweenness centrality:  {'Gokhale': 0.1787090850504774, 'Dada Abdulla': 0.06362585762031199, 'Kuhne': 0.05950817635977351, 'Polak': 0.036031313086991895, 'Malaviyaji': 0.027614070843218992, 'Chelmsford': 0.027614070843218992, 'Abbas': 0.023990426913452663, 'Escombe': 0.02207170475027613, 'Parsi Rustomji': 0.019506092743892207, 'Kasturbai': 0.016550722815585315}\n"
     ]
    }
   ],
   "source": [
    "from operator import itemgetter\n",
    "N=10\n",
    "for year_range in temporal_year_list:\n",
    "    start_year = year_range[0]\n",
    "    end_year = year_range[1]\n",
    "    G = returnGraph(date_person_list,start_year,end_year)\n",
    "    print(f\"diameter: {nx.diameter(G)}\")\n",
    "    print(f\"center: {nx.center(G)}\")\n",
    "    print(f\"periphery: {nx.periphery(G)}\")\n",
    "    print(f\"density: {nx.density(G)}\")\n",
    "    print(f\"clustering coefficient:  {nx.average_clustering(G)}\")\n",
    "    \n",
    "    close_cen = nx.closeness_centrality(G)\n",
    "    res = dict(sorted(close_cen.items(), key = itemgetter(1), reverse = True)[:N])\n",
    "    print(f\"closeness centrality:  {res}\")\n",
    "    \n",
    "    bet_cen = nx.betweenness_centrality(G)\n",
    "    res = dict(sorted(bet_cen.items(), key = itemgetter(1), reverse = True)[:N])\n",
    "    print(f\"betweenness centrality:  {res}\")"
   ]
  },
  {
   "cell_type": "code",
   "execution_count": 66,
   "metadata": {},
   "outputs": [],
   "source": [
    "somewt_graph = nx.read_graphml('Results/SOMEWT_startyear_1888_endyear_1924.xml')\n",
    "lomg_graph = nx.read_graphml('Results/Life_of_Mahatma_Gandhi_startyear_1888_endyear_1924.xml')"
   ]
  },
  {
   "cell_type": "code",
   "execution_count": 63,
   "metadata": {},
   "outputs": [
    {
     "data": {
      "text/plain": [
       "0.04247788"
      ]
     },
     "execution_count": 63,
     "metadata": {},
     "output_type": "execute_result"
    }
   ],
   "source": [
    "def jaccard_similarity(g, h):\n",
    "    i = set(g).intersection(h)\n",
    "    return round(len(i) / (len(g) + len(h) - len(i)),8)\n",
    "\n",
    "jaccard_similarity(somewt_graph.nodes(), lomg_graph.nodes())"
   ]
  },
  {
   "cell_type": "code",
   "execution_count": 70,
   "metadata": {},
   "outputs": [
    {
     "name": "stdout",
     "output_type": "stream",
     "text": [
      "{'Kasturbai'}\n",
      "{'Kasturbai'}\n",
      "{'Manilal', 'Mahadev Desai', 'Kasturbai'}\n",
      "{'Manilal', 'Mahadev Desai', 'Kasturbai'}\n",
      "{'Mahadev Desai', 'Manilal', 'Kasturbai', 'Chelmsford', 'Ramdas'}\n",
      "{'Mahadev Desai', 'Manilal', 'Kasturbai', 'Chelmsford', 'Ramdas'}\n",
      "{'Mahadev Desai', 'Manilal', 'Kasturbai', 'Chelmsford', 'Ramdas'}\n",
      "{'Mahadev Desai', 'Manilal', 'Kasturbai', 'Chelmsford', 'Ramdas'}\n",
      "{'Mahadev Desai', 'Manilal', 'Kasturbai', 'Chelmsford', 'Ramdas'}\n",
      "{'Mahadev Desai', 'Manilal', 'Kasturbai', 'Chelmsford', 'Ramdas'}\n",
      "{'Mahadev Desai', 'Manilal', 'Rajkumar Shukla', 'Kasturbai', 'Chelmsford', 'Malkani', 'Ramdas'}\n",
      "{'Mahadev Desai', 'Manilal', 'Rajkumar Shukla', 'Kasturbai', 'Chelmsford', 'Malkani', 'Ramdas'}\n",
      "{'Mahadev Desai', 'Manilal', 'Rajkumar Shukla', 'Kasturbai', 'Chelmsford', 'Malkani', 'Lokamanya Tilak', 'Ramdas'}\n",
      "{'Mahadev Desai', 'Manilal', 'Rajkumar Shukla', 'Kasturbai', 'Chelmsford', 'Malkani', 'Lokamanya Tilak', 'Ramdas'}\n"
     ]
    }
   ],
   "source": [
    "from operator import itemgetter\n",
    "N=20\n",
    "\n",
    "# center1 = nx.center(somewt_graph)\n",
    "# center2 = nx.center(lomg_graph)\n",
    "# print(set(center1).intersection(set(center2)),  len(center1), len(center2))\n",
    "\n",
    "# periphery1 = nx.periphery(somewt_graph)\n",
    "# periphery2 = nx.periphery(lomg_graph)\n",
    "# print(set(periphery1).intersection(set(periphery2)), len(periphery1), len(periphery2))\n",
    "\n",
    "for N in [10, 20, 30, 40, 50, 80, 100]:\n",
    "    close_cen = nx.closeness_centrality(somewt_graph)\n",
    "    res1 = dict(sorted(close_cen.items(), key = itemgetter(1), reverse = True)[:N])\n",
    "    close_cen = nx.closeness_centrality(lomg_graph)\n",
    "    res2 = dict(sorted(close_cen.items(), key = itemgetter(1), reverse = True)[:N])\n",
    "    print(set(res1.keys()).intersection(set(res2.keys()))  )\n",
    "\n",
    "\n",
    "    bet_cen = nx.closeness_centrality(somewt_graph)\n",
    "    res1 = dict(sorted(bet_cen.items(), key = itemgetter(1), reverse = True)[:N])\n",
    "    bet_cen = nx.closeness_centrality(lomg_graph)\n",
    "    res2 = dict(sorted(bet_cen.items(), key = itemgetter(1), reverse = True)[:N])\n",
    "    print(set(res1.keys()).intersection(set(res2.keys()))  )\n",
    "# for year_range in temporal_year_list:\n",
    "#     start_year = year_range[0]\n",
    "#     end_year = year_range[1]\n",
    "#     G = returnGraph(date_person_list,start_year,end_year)\n",
    "#     print(f\"diameter: {nx.diameter(G)}\")\n",
    "#     print(f\"center: {nx.center(G)}\")\n",
    "#     print(f\"periphery: {nx.periphery(G)}\")\n",
    "#     print(f\"density: {nx.density(G)}\")\n",
    "#     print(f\"clustering coefficient:  {nx.average_clustering(G)}\")\n",
    "    \n",
    "#     close_cen = nx.closeness_centrality(G)\n",
    "#     res = dict(sorted(close_cen.items(), key = itemgetter(1), reverse = True)[:N])\n",
    "#     print(f\"closeness centrality:  {res}\")\n",
    "    \n",
    "#     bet_cen = nx.betweenness_centrality(G)\n",
    "#     res = dict(sorted(bet_cen.items(), key = itemgetter(1), reverse = True)[:N])\n",
    "#     print(f\"betweenness centrality:  {res}\")"
   ]
  },
  {
   "cell_type": "code",
   "execution_count": null,
   "metadata": {},
   "outputs": [],
   "source": [
    "# !pip install netrd --user"
   ]
  },
  {
   "cell_type": "code",
   "execution_count": 45,
   "metadata": {},
   "outputs": [],
   "source": [
    "import netrd\n",
    "from netrd.distance import JaccardDistance, DeltaCon, Hamming"
   ]
  },
  {
   "cell_type": "code",
   "execution_count": 55,
   "metadata": {},
   "outputs": [],
   "source": [
    "do = DeltaCon()\n",
    "\n"
   ]
  },
  {
   "cell_type": "code",
   "execution_count": 56,
   "metadata": {},
   "outputs": [
    {
     "ename": "AssertionError",
     "evalue": "",
     "output_type": "error",
     "traceback": [
      "\u001b[1;31m---------------------------------------------------------------------------\u001b[0m",
      "\u001b[1;31mAssertionError\u001b[0m                            Traceback (most recent call last)",
      "\u001b[1;32m<ipython-input-56-1815cd6fd93f>\u001b[0m in \u001b[0;36m<module>\u001b[1;34m\u001b[0m\n\u001b[1;32m----> 1\u001b[1;33m \u001b[0mdo\u001b[0m\u001b[1;33m.\u001b[0m\u001b[0mdist\u001b[0m\u001b[1;33m(\u001b[0m\u001b[0msomewt_graph\u001b[0m\u001b[1;33m,\u001b[0m \u001b[0mlomg_graph\u001b[0m\u001b[1;33m)\u001b[0m\u001b[1;33m\u001b[0m\u001b[1;33m\u001b[0m\u001b[0m\n\u001b[0m",
      "\u001b[1;32m~\\AppData\\Roaming\\Python\\Python37\\site-packages\\netrd\\utilities\\graph.py\u001b[0m in \u001b[0;36mwrapper\u001b[1;34m(*args, **kwargs)\u001b[0m\n\u001b[0;32m     88\u001b[0m             \u001b[1;32mfor\u001b[0m \u001b[0marg\u001b[0m \u001b[1;32min\u001b[0m \u001b[0margs\u001b[0m\u001b[1;33m\u001b[0m\u001b[1;33m\u001b[0m\u001b[0m\n\u001b[0;32m     89\u001b[0m         ]\n\u001b[1;32m---> 90\u001b[1;33m         \u001b[1;32mreturn\u001b[0m \u001b[0mfunc\u001b[0m\u001b[1;33m(\u001b[0m\u001b[1;33m*\u001b[0m\u001b[0margs\u001b[0m\u001b[1;33m,\u001b[0m \u001b[1;33m**\u001b[0m\u001b[0mkwargs\u001b[0m\u001b[1;33m)\u001b[0m\u001b[1;33m\u001b[0m\u001b[1;33m\u001b[0m\u001b[0m\n\u001b[0m\u001b[0;32m     91\u001b[0m \u001b[1;33m\u001b[0m\u001b[0m\n\u001b[0;32m     92\u001b[0m     \u001b[1;32mreturn\u001b[0m \u001b[0mwrapper\u001b[0m\u001b[1;33m\u001b[0m\u001b[1;33m\u001b[0m\u001b[0m\n",
      "\u001b[1;32m~\\AppData\\Roaming\\Python\\Python37\\site-packages\\netrd\\distance\\deltacon.py\u001b[0m in \u001b[0;36mdist\u001b[1;34m(self, G1, G2, exact, g)\u001b[0m\n\u001b[0;32m     66\u001b[0m \u001b[1;33m\u001b[0m\u001b[0m\n\u001b[0;32m     67\u001b[0m         \"\"\"\n\u001b[1;32m---> 68\u001b[1;33m         \u001b[1;32massert\u001b[0m \u001b[0mG1\u001b[0m\u001b[1;33m.\u001b[0m\u001b[0mnumber_of_nodes\u001b[0m\u001b[1;33m(\u001b[0m\u001b[1;33m)\u001b[0m \u001b[1;33m==\u001b[0m \u001b[0mG2\u001b[0m\u001b[1;33m.\u001b[0m\u001b[0mnumber_of_nodes\u001b[0m\u001b[1;33m(\u001b[0m\u001b[1;33m)\u001b[0m\u001b[1;33m\u001b[0m\u001b[1;33m\u001b[0m\u001b[0m\n\u001b[0m\u001b[0;32m     69\u001b[0m         \u001b[0mN\u001b[0m \u001b[1;33m=\u001b[0m \u001b[0mG1\u001b[0m\u001b[1;33m.\u001b[0m\u001b[0mnumber_of_nodes\u001b[0m\u001b[1;33m(\u001b[0m\u001b[1;33m)\u001b[0m\u001b[1;33m\u001b[0m\u001b[1;33m\u001b[0m\u001b[0m\n\u001b[0;32m     70\u001b[0m \u001b[1;33m\u001b[0m\u001b[0m\n",
      "\u001b[1;31mAssertionError\u001b[0m: "
     ]
    }
   ],
   "source": [
    "do.dist(somewt_graph, lomg_graph)"
   ]
  },
  {
   "cell_type": "code",
   "execution_count": 54,
   "metadata": {},
   "outputs": [
    {
     "data": {
      "text/plain": [
       "1.0"
      ]
     },
     "execution_count": 54,
     "metadata": {},
     "output_type": "execute_result"
    }
   ],
   "source": [
    "0.00141952 + 0.99858048"
   ]
  },
  {
   "cell_type": "code",
   "execution_count": null,
   "metadata": {},
   "outputs": [],
   "source": []
  }
 ],
 "metadata": {
  "kernelspec": {
   "display_name": "Python 3",
   "language": "python",
   "name": "python3"
  },
  "language_info": {
   "codemirror_mode": {
    "name": "ipython",
    "version": 3
   },
   "file_extension": ".py",
   "mimetype": "text/x-python",
   "name": "python",
   "nbconvert_exporter": "python",
   "pygments_lexer": "ipython3",
   "version": "3.7.4"
  }
 },
 "nbformat": 4,
 "nbformat_minor": 2
}
